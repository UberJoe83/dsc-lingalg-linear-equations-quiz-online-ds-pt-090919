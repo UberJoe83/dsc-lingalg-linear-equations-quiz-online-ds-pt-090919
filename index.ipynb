{
 "cells": [
  {
   "cell_type": "markdown",
   "metadata": {},
   "source": [
    "# Systems of Linear Equations - Lab\n",
    "\n",
    "## Introduction\n",
    "The following scenarios present problems that can be solved as a system of equations while performing substitutions and eliminations as you saw in the previous lesson.\n",
    "\n",
    "* Solve these problems by hand, showing all the steps to work out the unknown variable values \n",
    "* Verify your answers by showing the calculated values satisfy all equations\n",
    "\n",
    "## Objectives\n",
    "\n",
    "In this lab you will: \n",
    "\n",
    "- Solve a system of equations using elimination and substitution\n",
    "\n",
    "## Exercise 1\n",
    "Jane paid 12 dollars for 4 cups of coffee and 4 cups of tea. 3 cups of coffee cost as much as 2 cups of tea. What would be the total cost of 5 cups of coffee and 5 cups of tea?\n",
    "\n",
    "### Solution\n",
    "\n",
    "> Let $x$ be the unit price of coffee and $y$ be the unit price of tea"
   ]
  },
  {
   "cell_type": "code",
   "execution_count": 3,
   "metadata": {},
   "outputs": [],
   "source": [
    "# Your solution here \n",
    "#    A) 4x + 4y = 12\n",
    "#    B) 3x - 2y = 0\n",
    "   \n",
    "#    A) y = 3 - x\n",
    "   \n",
    "#    Sub in B):\n",
    "#    3x - 2(3 - x) = 0\n",
    "#    3x - 6 - 2x = 0\n",
    "#    3x - 2x = x\n",
    "#    x - 6 = 0\n",
    "#    x = 6 / 5\n",
    "#    x = 1.2\n",
    "   \n",
    "#    Plug into A):\n",
    "#    4(1.2) + 4y = 12\n",
    "#    4.8 + 4y = 12\n",
    "#    12 - 4.8 =  7.2\n",
    "#    7.2 / 4 = 1.8\n",
    "#    y = 1.8\n",
    "   \n",
    "#    CHECK ANSWER:\n",
    "#    3x = 2y\n",
    "#    3(1.2) = 2(1.8)\n",
    "#    3.6 = 3.6\n",
    "   \n",
    "#    5 cups of coffee and tea:\n",
    "#    5(1.2) + 5(1.8)\n",
    "#    6 + 9 = 15 dollars\n",
    "# Answer: 5 cups of tea and 5 cups of coffee = 15 dollars"
   ]
  },
  {
   "cell_type": "markdown",
   "metadata": {},
   "source": [
    "## Exercise 2\n",
    "\n",
    "Jim has more money than Bob. If Jim gave Bob 20 dollars, they would have the same amount. If Bob gave Jim 22 dollars, however, Jim would then have twice as much as Bob. \n",
    "\n",
    "How much does each one actually have?\n",
    "\n",
    "### Solution\n",
    "> Let x be the amount of money that Jim has and y be the amount that Bob has "
   ]
  },
  {
   "cell_type": "code",
   "execution_count": 5,
   "metadata": {},
   "outputs": [],
   "source": [
    "# Your solution here \n",
    "# 1) x - 20 = y + 20 \n",
    "# 2) x + 22 = 2(y - 22)\n",
    "# 3) x = y + 40\n",
    "\n",
    "# Sub for x in 2):\n",
    "#     y + 40 + 22 = 2(y - 22)\n",
    "#     y + 62 = 2(y - 22)\n",
    "#     62(2) - 22 = 106\n",
    "#     y = 106\n",
    "    \n",
    "# Sub for y in 3):\n",
    "#     x = 106 + 40\n",
    "#     x = 146\n",
    "    \n",
    "# Answer:\n",
    "# y = 106 (Bob's amount)\n",
    "# x = 146 (Jim's amount)"
   ]
  },
  {
   "cell_type": "markdown",
   "metadata": {},
   "source": [
    "## Exercise 3\n",
    "\n",
    "Mia has 30 coins, consisting of quarters (25 cents) and dimes (10 cents), which totals to the amount 5.70 dollars.  \n",
    "How many of each does she have?\n",
    "\n",
    "### Solution\n",
    "\n",
    "> Let x be the number of quarters and y be the number of dimes "
   ]
  },
  {
   "cell_type": "code",
   "execution_count": 4,
   "metadata": {},
   "outputs": [],
   "source": [
    "# Your solution here \n",
    "# 1) x + y = 30 \"Multiply by -10 to eliminate y\"\n",
    "# 2) .25x + .10y = 5.70 \"Multiply by 100\"\n",
    "\n",
    "# 3) -10x - 10y = -300\n",
    "# 4) 25x + 10y = 570\n",
    "# Now we add them up:\n",
    "#     15x + 0 = 270\n",
    "#     15x = 270\n",
    "#     270/15 = 18\n",
    "#     x = 18\n",
    "#     y = 30 - 18 = 12\n",
    "#     y = 12\n",
    "# Answer:\n",
    "# x = 18 quarters\n",
    "# y = 12 dimes"
   ]
  },
  {
   "cell_type": "markdown",
   "metadata": {},
   "source": [
    "## Level up (Optional)\n",
    "For more practice with linear equations, visit the following links for more complex equations:\n",
    "\n",
    "* https://www.transum.org/software/SW/Starter_of_the_day/Students/Simultaneous_Equations.asp?Level=6\n",
    "* https://www.transum.org/software/SW/Starter_of_the_day/Students/Simultaneous_Equations.asp?Level=7\n",
    "\n",
    "## Summary\n",
    "\n",
    "In this lesson, you learned how to solve linear equations by hand to find the coefficient values. You'll now move forward to have a deeper look into vectors and matrices and how Python and NumPy can help us solve more complex equations in an analytical context. "
   ]
  }
 ],
 "metadata": {
  "kernelspec": {
   "display_name": "Python 3",
   "language": "python",
   "name": "python3"
  },
  "language_info": {
   "codemirror_mode": {
    "name": "ipython",
    "version": 3
   },
   "file_extension": ".py",
   "mimetype": "text/x-python",
   "name": "python",
   "nbconvert_exporter": "python",
   "pygments_lexer": "ipython3",
   "version": "3.6.6"
  }
 },
 "nbformat": 4,
 "nbformat_minor": 2
}
